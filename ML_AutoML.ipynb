{
 "cells": [
  {
   "cell_type": "code",
   "execution_count": null,
   "id": "3f6315f5",
   "metadata": {},
   "outputs": [],
   "source": [
    "import h2o\n",
    "import numpy as np\n",
    "import pandas as pd\n",
    "from sklearn.model_selection import train_test_split\n",
    "import time\n",
    "from h2o.automl import H2OAutoML\n",
    "from h2o.estimators.gbm import H2OGradientBoostingEstimator\n",
    "%matplotlib inline\n",
    "h2o.init()\n",
    "h2o.no_progress()"
   ]
  },
  {
   "cell_type": "code",
   "execution_count": null,
   "id": "37aa007d",
   "metadata": {},
   "outputs": [],
   "source": [
    "final_df = final_df.drop(['CODE_GENDER_F', 'CODE_GENDER_M', 'CODE_GENDER_XNA', 'NAME_FAMILY_STATUS_Civil marriage', 'NAME_FAMILY_STATUS_Married', 'NAME_FAMILY_STATUS_Single / not married', 'DAYS_ID_PUBLISH', 'DAYS_REGISTRATION'], axis=1)"
   ]
  },
  {
   "cell_type": "code",
   "execution_count": null,
   "id": "628e0050",
   "metadata": {},
   "outputs": [],
   "source": [
    "X = final_df.drop(columns=[\"SK_ID_CURR\", \"TARGET\"])\n",
    "y = final_df[\"TARGET\"]\n",
    "\n",
    "X_train, X_test, y_train, y_test = train_test_split(X, y, stratify=y, test_size=0.2, random_state=2030)\n",
    "# X_train, X_val, y_train, y_val = train_test_split(X_train, y_train, stratify=y_train, test_size=0.25, random_state=2030)"
   ]
  },
  {
   "cell_type": "code",
   "execution_count": null,
   "id": "f112bdd9",
   "metadata": {},
   "outputs": [],
   "source": [
    "train_hf = h2o.H2OFrame(pd.concat([X_train, y_train], axis=1))\n",
    "train_hf[\"TARGET\"] = train_hf[\"TARGET\"].asfactor()\n",
    "test_hf = h2o.H2OFrame(pd.concat([X_test, y_test], axis=1))\n",
    "test_hf[\"TARGET\"] = test_hf[\"TARGET\"].asfactor()"
   ]
  },
  {
   "cell_type": "code",
   "execution_count": null,
   "id": "1e97e28b",
   "metadata": {},
   "outputs": [],
   "source": [
    "aml = h2o.automl.H2OAutoML(max_models=25)\n",
    "aml.train(training_frame=train_hf, y=\"TARGET\")"
   ]
  },
  {
   "cell_type": "code",
   "execution_count": null,
   "id": "b81bde91",
   "metadata": {},
   "outputs": [],
   "source": []
  }
 ],
 "metadata": {
  "kernelspec": {
   "display_name": "Python 3 (ipykernel)",
   "language": "python",
   "name": "python3"
  },
  "language_info": {
   "codemirror_mode": {
    "name": "ipython",
    "version": 3
   },
   "file_extension": ".py",
   "mimetype": "text/x-python",
   "name": "python",
   "nbconvert_exporter": "python",
   "pygments_lexer": "ipython3",
   "version": "3.9.12"
  }
 },
 "nbformat": 4,
 "nbformat_minor": 5
}
